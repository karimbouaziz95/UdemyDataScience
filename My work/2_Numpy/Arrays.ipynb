{
 "cells": [
  {
   "cell_type": "code",
   "execution_count": 1,
   "metadata": {},
   "outputs": [],
   "source": [
    "import numpy as np"
   ]
  },
  {
   "cell_type": "code",
   "execution_count": 2,
   "metadata": {},
   "outputs": [],
   "source": [
    "def array_info(array: np.ndarray) -> None:\n",
    "    print(f\"ndim: {array.ndim}\")\n",
    "    print(f\"shape: {array.shape}\")\n",
    "    print(f\"size: {array.size}\")\n",
    "    print(f\"dtype: {array.dtype}\")\n",
    "    print(f\"values:\\n{array}\\n\")"
   ]
  },
  {
   "cell_type": "code",
   "execution_count": 4,
   "metadata": {},
   "outputs": [
    {
     "name": "stdout",
     "output_type": "stream",
     "text": [
      "ndim: 1\n",
      "shape: (5,)\n",
      "size: 5\n",
      "dtype: float64\n",
      "values:\n",
      "[1.  4.  2.  5.2 3. ]\n",
      "\n"
     ]
    }
   ],
   "source": [
    "my_np_array = np.array([1, 4, 2, 5.2, 3])\n",
    "array_info(my_np_array)"
   ]
  },
  {
   "cell_type": "code",
   "execution_count": 9,
   "metadata": {},
   "outputs": [
    {
     "ename": "TypeError",
     "evalue": "'shape' is an invalid keyword argument for array()",
     "output_type": "error",
     "traceback": [
      "\u001b[1;31m---------------------------------------------------------------------------\u001b[0m",
      "\u001b[1;31mTypeError\u001b[0m                                 Traceback (most recent call last)",
      "\u001b[1;32mC:\\Users\\KARIMB~1\\AppData\\Local\\Temp/ipykernel_11388/1394322490.py\u001b[0m in \u001b[0;36m<module>\u001b[1;34m\u001b[0m\n\u001b[1;32m----> 1\u001b[1;33m \u001b[0mmy_np_array\u001b[0m \u001b[1;33m=\u001b[0m \u001b[0mnp\u001b[0m\u001b[1;33m.\u001b[0m\u001b[0marray\u001b[0m\u001b[1;33m(\u001b[0m\u001b[1;33m[\u001b[0m\u001b[1;36m1\u001b[0m\u001b[1;33m,\u001b[0m \u001b[1;36m2\u001b[0m\u001b[1;33m,\u001b[0m \u001b[1;36m3\u001b[0m\u001b[1;33m,\u001b[0m \u001b[1;36m4\u001b[0m\u001b[1;33m]\u001b[0m\u001b[1;33m,\u001b[0m \u001b[0mdtype\u001b[0m\u001b[1;33m=\u001b[0m\u001b[1;34m'float32'\u001b[0m\u001b[1;33m,\u001b[0m \u001b[0mshape\u001b[0m\u001b[1;33m=\u001b[0m\u001b[1;33m(\u001b[0m\u001b[1;36m2\u001b[0m\u001b[1;33m,\u001b[0m\u001b[1;36m2\u001b[0m\u001b[1;33m)\u001b[0m\u001b[1;33m)\u001b[0m\u001b[1;33m\u001b[0m\u001b[1;33m\u001b[0m\u001b[0m\n\u001b[0m\u001b[0;32m      2\u001b[0m \u001b[0marray_info\u001b[0m\u001b[1;33m(\u001b[0m\u001b[0mmy_np_array\u001b[0m\u001b[1;33m)\u001b[0m\u001b[1;33m\u001b[0m\u001b[1;33m\u001b[0m\u001b[0m\n",
      "\u001b[1;31mTypeError\u001b[0m: 'shape' is an invalid keyword argument for array()"
     ]
    }
   ],
   "source": [
    "my_np_array = np.array([1, 2, 3, 4], dtype='float32', shape=(2,2))\n",
    "array_info(my_np_array)"
   ]
  },
  {
   "cell_type": "code",
   "execution_count": 11,
   "metadata": {},
   "outputs": [
    {
     "name": "stdout",
     "output_type": "stream",
     "text": [
      "ndim: 2\n",
      "shape: (3, 6)\n",
      "size: 18\n",
      "dtype: float64\n",
      "values:\n",
      "[[1. 1. 1. 1. 1. 1.]\n",
      " [1. 1. 1. 1. 1. 1.]\n",
      " [1. 1. 1. 1. 1. 1.]]\n",
      "\n"
     ]
    }
   ],
   "source": [
    "my_np_array = np.ones(shape=(3, 6), dtype=float)\n",
    "array_info(my_np_array)"
   ]
  },
  {
   "cell_type": "code",
   "execution_count": 12,
   "metadata": {},
   "outputs": [
    {
     "name": "stdout",
     "output_type": "stream",
     "text": [
      "ndim: 2\n",
      "shape: (3, 5)\n",
      "size: 15\n",
      "dtype: int32\n",
      "values:\n",
      "[[7 7 7 7 7]\n",
      " [7 7 7 7 7]\n",
      " [7 7 7 7 7]]\n",
      "\n"
     ]
    }
   ],
   "source": [
    "my_np_array = np.full(shape=(3, 5), fill_value=7)\n",
    "array_info(my_np_array)"
   ]
  },
  {
   "cell_type": "code",
   "execution_count": 13,
   "metadata": {},
   "outputs": [
    {
     "name": "stdout",
     "output_type": "stream",
     "text": [
      "ndim: 2\n",
      "shape: (4, 4)\n",
      "size: 16\n",
      "dtype: float64\n",
      "values:\n",
      "[[1. 0. 0. 0.]\n",
      " [0. 1. 0. 0.]\n",
      " [0. 0. 1. 0.]\n",
      " [0. 0. 0. 1.]]\n",
      "\n"
     ]
    }
   ],
   "source": [
    "my_np_array = np.eye(N=4)\n",
    "array_info(my_np_array)"
   ]
  },
  {
   "cell_type": "code",
   "execution_count": 14,
   "metadata": {},
   "outputs": [
    {
     "name": "stdout",
     "output_type": "stream",
     "text": [
      "ndim: 2\n",
      "shape: (4, 4)\n",
      "size: 16\n",
      "dtype: int32\n",
      "values:\n",
      "[[ 1  0  0  0]\n",
      " [ 0  4  0  0]\n",
      " [ 0  0 11  0]\n",
      " [ 0  0  0 50]]\n",
      "\n"
     ]
    }
   ],
   "source": [
    "my_np_array = np.diag([1, 4, 11,50])\n",
    "array_info(my_np_array)"
   ]
  },
  {
   "cell_type": "code",
   "execution_count": 17,
   "metadata": {},
   "outputs": [
    {
     "name": "stdout",
     "output_type": "stream",
     "text": [
      "ndim: 2\n",
      "shape: (3, 3)\n",
      "size: 9\n",
      "dtype: int32\n",
      "values:\n",
      "[[4 8 7]\n",
      " [9 6 9]\n",
      " [8 7 9]]\n",
      "\n"
     ]
    }
   ],
   "source": [
    "my_np_array = np.random.randint(low=0, high=10, size=(3, 3))\n",
    "array_info(my_np_array)"
   ]
  },
  {
   "cell_type": "code",
   "execution_count": 19,
   "metadata": {},
   "outputs": [
    {
     "name": "stdout",
     "output_type": "stream",
     "text": [
      "ndim: 2\n",
      "shape: (3, 3)\n",
      "size: 9\n",
      "dtype: float64\n",
      "values:\n",
      "[[0.92627227 0.47566754 0.35116475]\n",
      " [0.99016029 0.27704445 0.85732914]\n",
      " [0.92548082 0.88359851 0.07521903]]\n",
      "\n"
     ]
    }
   ],
   "source": [
    "my_np_array = np.random.random(size=(3, 3))\n",
    "array_info(my_np_array)"
   ]
  },
  {
   "cell_type": "code",
   "execution_count": 20,
   "metadata": {},
   "outputs": [
    {
     "name": "stdout",
     "output_type": "stream",
     "text": [
      "ndim: 2\n",
      "shape: (3, 2)\n",
      "size: 6\n",
      "dtype: int32\n",
      "values:\n",
      "[[1 2]\n",
      " [3 4]\n",
      " [5 6]]\n",
      "\n"
     ]
    }
   ],
   "source": [
    "x = np.array([[1, 2], [3, 4], [5, 6]])\n",
    "\n",
    "array_info(x)"
   ]
  },
  {
   "cell_type": "code",
   "execution_count": 25,
   "metadata": {},
   "outputs": [
    {
     "name": "stdout",
     "output_type": "stream",
     "text": [
      "2\n"
     ]
    }
   ],
   "source": [
    "print(x[0][1])"
   ]
  },
  {
   "cell_type": "code",
   "execution_count": 28,
   "metadata": {},
   "outputs": [
    {
     "name": "stdout",
     "output_type": "stream",
     "text": [
      "[[5 6]\n",
      " [3 4]\n",
      " [1 2]]\n"
     ]
    }
   ],
   "source": [
    "print(x[::-1])"
   ]
  },
  {
   "cell_type": "code",
   "execution_count": 31,
   "metadata": {},
   "outputs": [
    {
     "name": "stdout",
     "output_type": "stream",
     "text": [
      "[[ 3.33199465  6.85393505]\n",
      " [-0.42321723  0.26428552]\n",
      " [ 0.07300731 -1.78768608]\n",
      " [ 0.65669145  1.42152246]\n",
      " [ 1.48595703  1.12556272]\n",
      " [ 0.07024413 -1.26838168]\n",
      " [ 1.45422599  2.32794647]\n",
      " [-0.88559452 -1.08417101]\n",
      " [-0.79476365 -1.79103151]\n",
      " [ 0.18689206  1.78829177]]\n",
      "(10, 2)\n"
     ]
    }
   ],
   "source": [
    "mean = [0, 0]\n",
    "cov = [[1, 2],\n",
    "       [2, 5]]\n",
    "\n",
    "x = np.random.multivariate_normal(mean=mean, cov=cov, size=10)\n",
    "\n",
    "print(x)\n",
    "print(x.shape)"
   ]
  },
  {
   "cell_type": "code",
   "execution_count": 35,
   "metadata": {},
   "outputs": [
    {
     "name": "stdout",
     "output_type": "stream",
     "text": [
      "[1 1 2]\n"
     ]
    }
   ],
   "source": [
    "rand_idxs = np.random.randint(low=0, high=x.shape[0], size=3)\n",
    "\n",
    "print(rand_idxs)"
   ]
  },
  {
   "cell_type": "code",
   "execution_count": 36,
   "metadata": {},
   "outputs": [
    {
     "name": "stdout",
     "output_type": "stream",
     "text": [
      "[[-0.42321723  0.26428552]\n",
      " [-0.42321723  0.26428552]\n",
      " [ 0.07300731 -1.78768608]]\n"
     ]
    }
   ],
   "source": [
    "x_subsample = x[rand_idxs]\n",
    "\n",
    "print(x_subsample)"
   ]
  },
  {
   "cell_type": "code",
   "execution_count": 37,
   "metadata": {},
   "outputs": [
    {
     "name": "stdout",
     "output_type": "stream",
     "text": [
      "[[ 3.33199465  6.85393505]\n",
      " [-0.42321723  0.26428552]\n",
      " [ 0.07300731 -1.78768608]\n",
      " [ 0.65669145  1.42152246]\n",
      " [ 1.48595703  1.12556272]\n",
      " [ 0.07024413 -1.26838168]\n",
      " [ 1.45422599  2.32794647]\n",
      " [-0.88559452 -1.08417101]\n",
      " [-0.79476365 -1.79103151]\n",
      " [ 0.18689206  1.78829177]]\n"
     ]
    }
   ],
   "source": [
    "print(x)"
   ]
  },
  {
   "cell_type": "code",
   "execution_count": 38,
   "metadata": {},
   "outputs": [
    {
     "name": "stdout",
     "output_type": "stream",
     "text": [
      "[[ 0.07300731 -1.78768608]\n",
      " [ 0.65669145  1.42152246]]\n"
     ]
    }
   ],
   "source": [
    "x_sub_array = x[2:4,:]\n",
    "print(x_sub_array)"
   ]
  },
  {
   "cell_type": "code",
   "execution_count": 39,
   "metadata": {},
   "outputs": [
    {
     "name": "stdout",
     "output_type": "stream",
     "text": [
      "ndim: 2\n",
      "shape: (2, 2)\n",
      "size: 4\n",
      "dtype: float64\n",
      "values:\n",
      "[[-1.         -1.78768608]\n",
      " [ 0.65669145  1.42152246]]\n",
      "\n"
     ]
    }
   ],
   "source": [
    "x_sub_array[0, 0] = -1\n",
    "\n",
    "array_info(x_sub_array)"
   ]
  },
  {
   "cell_type": "code",
   "execution_count": 40,
   "metadata": {},
   "outputs": [
    {
     "name": "stdout",
     "output_type": "stream",
     "text": [
      "[[-1.         -1.78768608]\n",
      " [ 0.65669145  1.42152246]]\n"
     ]
    }
   ],
   "source": [
    "print(x_sub_array)"
   ]
  },
  {
   "cell_type": "code",
   "execution_count": 41,
   "metadata": {},
   "outputs": [
    {
     "name": "stdout",
     "output_type": "stream",
     "text": [
      "[[ 3.33199465  6.85393505]\n",
      " [-0.42321723  0.26428552]\n",
      " [-1.         -1.78768608]\n",
      " [ 0.65669145  1.42152246]\n",
      " [ 1.48595703  1.12556272]\n",
      " [ 0.07024413 -1.26838168]\n",
      " [ 1.45422599  2.32794647]\n",
      " [-0.88559452 -1.08417101]\n",
      " [-0.79476365 -1.79103151]\n",
      " [ 0.18689206  1.78829177]]\n"
     ]
    }
   ],
   "source": [
    "print(x)"
   ]
  },
  {
   "cell_type": "code",
   "execution_count": 42,
   "metadata": {},
   "outputs": [
    {
     "name": "stdout",
     "output_type": "stream",
     "text": [
      "ndim: 2\n",
      "shape: (2, 2)\n",
      "size: 4\n",
      "dtype: float64\n",
      "values:\n",
      "[[ 3.33199465  6.85393505]\n",
      " [-0.42321723  0.26428552]]\n",
      "\n"
     ]
    }
   ],
   "source": [
    "x_copy = x[:2, :2].copy()\n",
    "\n",
    "array_info(x_copy)"
   ]
  },
  {
   "cell_type": "code",
   "execution_count": 47,
   "metadata": {},
   "outputs": [
    {
     "name": "stdout",
     "output_type": "stream",
     "text": [
      "ndim: 1\n",
      "shape: (9,)\n",
      "size: 9\n",
      "dtype: int32\n",
      "values:\n",
      "[1 2 3 4 5 6 7 8 9]\n",
      "\n"
     ]
    }
   ],
   "source": [
    "a = np.arange(start=1, stop=10)\n",
    "array_info(a)"
   ]
  },
  {
   "cell_type": "code",
   "execution_count": 54,
   "metadata": {},
   "outputs": [
    {
     "name": "stdout",
     "output_type": "stream",
     "text": [
      "ndim: 1\n",
      "shape: (4,)\n",
      "size: 4\n",
      "dtype: int32\n",
      "values:\n",
      "[1 2 3 4]\n",
      "\n"
     ]
    }
   ],
   "source": [
    "x = np.array([1, 2, 3, 4])\n",
    "\n",
    "array_info(x)"
   ]
  },
  {
   "cell_type": "code",
   "execution_count": 51,
   "metadata": {},
   "outputs": [
    {
     "name": "stdout",
     "output_type": "stream",
     "text": [
      "ndim: 2\n",
      "shape: (1, 3)\n",
      "size: 3\n",
      "dtype: int32\n",
      "values:\n",
      "[[1 2 3]]\n",
      "\n"
     ]
    }
   ],
   "source": [
    "x = np.reshape(x, newshape=(1, 3))\n",
    "\n",
    "array_info(x)"
   ]
  },
  {
   "cell_type": "code",
   "execution_count": 65,
   "metadata": {},
   "outputs": [
    {
     "name": "stdout",
     "output_type": "stream",
     "text": [
      "ndim: 1\n",
      "shape: (4,)\n",
      "size: 4\n",
      "dtype: int32\n",
      "values:\n",
      "[1 2 3 4]\n",
      "\n",
      "ndim: 2\n",
      "shape: (2, 2)\n",
      "size: 4\n",
      "dtype: int32\n",
      "values:\n",
      "[[1 2]\n",
      " [3 4]]\n",
      "\n"
     ]
    }
   ],
   "source": [
    "array_info(x)\n",
    "\n",
    "x = x.reshape((2, 2))\n",
    "\n",
    "array_info(x)"
   ]
  },
  {
   "cell_type": "code",
   "execution_count": 64,
   "metadata": {},
   "outputs": [
    {
     "name": "stdout",
     "output_type": "stream",
     "text": [
      "ndim: 3\n",
      "shape: (2, 2, 1)\n",
      "size: 4\n",
      "dtype: int32\n",
      "values:\n",
      "[[[1]\n",
      "  [2]]\n",
      "\n",
      " [[3]\n",
      "  [4]]]\n",
      "\n",
      "ndim: 1\n",
      "shape: (4,)\n",
      "size: 4\n",
      "dtype: int32\n",
      "values:\n",
      "[1 2 3 4]\n",
      "\n"
     ]
    }
   ],
   "source": [
    "array_info(x)\n",
    "\n",
    "x = x.ravel()\n",
    "\n",
    "array_info(x)"
   ]
  },
  {
   "cell_type": "code",
   "execution_count": 66,
   "metadata": {},
   "outputs": [
    {
     "name": "stdout",
     "output_type": "stream",
     "text": [
      "ndim: 2\n",
      "shape: (2, 2)\n",
      "size: 4\n",
      "dtype: int32\n",
      "values:\n",
      "[[1 2]\n",
      " [3 4]]\n",
      "\n",
      "ndim: 1\n",
      "shape: (4,)\n",
      "size: 4\n",
      "dtype: int32\n",
      "values:\n",
      "[1 2 3 4]\n",
      "\n"
     ]
    }
   ],
   "source": [
    "x = x.reshape((2, 2))\n",
    "array_info(x)\n",
    "\n",
    "x = x.flatten()\n",
    "\n",
    "array_info(x)"
   ]
  },
  {
   "cell_type": "code",
   "execution_count": 67,
   "metadata": {},
   "outputs": [
    {
     "name": "stdout",
     "output_type": "stream",
     "text": [
      "hallo\n"
     ]
    }
   ],
   "source": [
    "print('hallo')"
   ]
  },
  {
   "cell_type": "code",
   "execution_count": null,
   "metadata": {},
   "outputs": [],
   "source": []
  }
 ],
 "metadata": {
  "interpreter": {
   "hash": "804ff11b51b99f8533530636c37e762cb3634e9872275689a85a6cecf601825c"
  },
  "kernelspec": {
   "display_name": "Python 3.9.7 64-bit ('pyData': conda)",
   "name": "python3"
  },
  "language_info": {
   "codemirror_mode": {
    "name": "ipython",
    "version": 3
   },
   "file_extension": ".py",
   "mimetype": "text/x-python",
   "name": "python",
   "nbconvert_exporter": "python",
   "pygments_lexer": "ipython3",
   "version": "3.9.7"
  },
  "orig_nbformat": 4
 },
 "nbformat": 4,
 "nbformat_minor": 2
}
